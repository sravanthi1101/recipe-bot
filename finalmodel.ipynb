{
 "cells": [
  {
   "cell_type": "code",
   "execution_count": 1,
   "id": "0100275b",
   "metadata": {},
   "outputs": [],
   "source": [
    "import pandas as pd\n",
    "from sklearn.feature_extraction.text import TfidfVectorizer\n",
    "from sklearn.metrics.pairwise import cosine_similarity  \n",
    "import pickle\n",
    "import nltk\n",
    "import string\n",
    "import ast\n",
    "import re\n",
    "# nltk.download('wordnet')\n",
    "from nltk.stem import WordNetLemmatizer\n",
    "from nltk.corpus import wordnet\n",
    "from collections import Counter\n"
   ]
  },
  {
   "cell_type": "code",
   "execution_count": 2,
   "id": "de90ba00",
   "metadata": {},
   "outputs": [
    {
     "name": "stderr",
     "output_type": "stream",
     "text": [
      "[nltk_data] Downloading package omw-1.4 to\n",
      "[nltk_data]     C:\\Users\\laksh\\AppData\\Roaming\\nltk_data...\n"
     ]
    },
    {
     "data": {
      "text/plain": [
       "True"
      ]
     },
     "execution_count": 2,
     "metadata": {},
     "output_type": "execute_result"
    }
   ],
   "source": [
    "nltk.download('omw-1.4')"
   ]
  },
  {
   "cell_type": "code",
   "execution_count": 164,
   "id": "9e46b173",
   "metadata": {},
   "outputs": [],
   "source": [
    "def ingredient_parser(ingreds):\n",
    "    measures = ['teaspoon', 't', 'tsp.', 'tablespoon', 'T', 'tbl.', 'tb', 'tbsp.', 'fluid ounce', 'fl oz', 'gill', 'cup', 'c', 'pint', 'p', 'pt', 'fl pt', 'quart', 'q', 'qt', 'fl qt', 'gallon', 'g', 'gal', 'ml', 'milliliter', 'millilitre', 'cc', 'mL', 'l', 'liter', 'litre', 'L', 'dl', 'deciliter', 'decilitre', 'dL', 'bulb', 'level', 'heaped', 'rounded', 'whole', 'pinch', 'medium', 'slice', 'pound', 'lb', '#', 'ounce', 'oz', 'mg', 'milligram', 'milligramme', 'g', 'gram', 'gramme', 'kg', 'kilogram', 'kilogramme', 'x', 'of', 'mm', 'millimetre', 'millimeter', 'cm', 'centimeter', 'centimetre', 'm', 'meter', 'metre', 'inch', 'in', 'milli', 'centi', 'deci', 'hecto', 'kilo']\n",
    "    words_to_remove = ['fresh', 'oil', 'a', 'red', 'bunch', 'and', 'clove', 'or', 'leaf', 'chilli', 'large', 'extra', 'sprig', 'ground', 'handful', 'free', 'small', 'pepper', 'virgin', 'range', 'from', 'dried', 'sustainable', 'black', 'peeled', 'higher', 'welfare', 'seed', 'for', 'finely', 'freshly', 'sea', 'quality', 'white', 'ripe', 'few', 'piece', 'source', 'to', 'organic', 'flat', 'smoked', 'ginger', 'sliced', 'green', 'picked', 'the', 'stick', 'plain', 'plus', 'mixed', 'mint', 'bay', 'basil', 'your', 'cumin', 'optional', 'fennel', 'serve', 'mustard', 'unsalted', 'baby', 'paprika', 'fat', 'ask', 'natural', 'skin', 'roughly', 'into', 'such', 'cut', 'good', 'brown', 'grated', 'trimmed', 'oregano', 'powder', 'yellow', 'dusting', 'knob', 'frozen', 'on', 'deseeded', 'low', 'runny', 'balsamic', 'cooked', 'streaky', 'nutmeg', 'sage', 'rasher', 'zest', 'pin', 'groundnut', 'breadcrumb', 'turmeric', 'halved', 'grating', 'stalk', 'light', 'tinned', 'dry', 'soft', 'rocket', 'bone', 'colour', 'washed', 'skinless', 'leftover', 'splash', 'removed', 'dijon', 'thick', 'big', 'hot', 'drained', 'sized', 'chestnut', 'watercress', 'fishmonger', 'english', 'dill', 'caper', 'raw', 'worcestershire', 'flake', 'cider', 'cayenne', 'tbsp', 'leg', 'pine', 'wild', 'if', 'fine', 'herb', 'almond', 'shoulder', 'cube', 'dressing', 'with', 'chunk', 'spice', 'thumb', 'garam', 'new', 'little', 'punnet', 'peppercorn', 'shelled', 'saffron', 'other''chopped', 'salt', 'olive', 'taste', 'can', 'sauce', 'water', 'diced', 'package', 'italian', 'shredded', 'divided', 'parsley', 'vinegar', 'all', 'purpose', 'crushed', 'juice', 'more', 'coriander', 'bell', 'needed', 'thinly', 'boneless', 'half', 'thyme', 'cubed', 'cinnamon', 'cilantro', 'jar', 'seasoning', 'rosemary', 'extract', 'sweet', 'baking', 'beaten', 'heavy', 'seeded', 'tin', 'vanilla', 'uncooked', 'crumb', 'style', 'thin', 'nut', 'coarsely', 'spring', 'chili', 'cornstarch', 'strip', 'cardamom', 'rinsed', 'honey', 'cherry', 'root', 'quartered', 'head', 'softened', 'container', 'crumbled', 'frying', 'lean', 'cooking', 'roasted', 'warm', 'whipping', 'thawed', 'corn', 'pitted', 'sun', 'kosher', 'bite', 'toasted', 'lasagna', 'split', 'melted', 'degree', 'lengthwise', 'romano', 'packed', 'pod', 'anchovy', 'rom', 'prepared', 'juiced', 'fluid', 'floret', 'room', 'active', 'seasoned', 'mix', 'deveined', 'lightly', 'anise', 'thai', 'size', 'unsweetened', 'torn', 'wedge', 'sour', 'basmati', 'marinara', 'dark', 'temperature', 'garnish', 'bouillon', 'loaf', 'shell', 'reggiano', 'canola', 'parmigiano', 'round', 'canned', 'ghee', 'crust', 'long', 'broken', 'ketchup', 'bulk', 'cleaned', 'condensed', 'sherry', 'provolone', 'cold', 'soda', 'cottage', 'spray', 'tamarind', 'pecorino', 'shortening', 'part', 'bottle', 'sodium', 'cocoa', 'grain', 'french', 'roast', 'stem', 'link', 'firm', 'asafoetida', 'mild', 'dash', 'boiling']\n",
    "    # The ingredient list is now a string so we need to turn it back into a list. We use ast.literal_eval\n",
    "    if isinstance(ingreds, list):\n",
    "        ingredients = ingreds\n",
    "    else:\n",
    "        ingredients = ast.literal_eval(ingreds)\n",
    "     \n",
    "    translator = str.maketrans('', '', string.punctuation)\n",
    "    lemmatizer = WordNetLemmatizer()\n",
    "    ingred_list = []\n",
    "    for i in ingredients:\n",
    "        i.translate(translator)\n",
    "        # We split up with hyphens as well as spaces\n",
    "        items = re.split(' |-', i)\n",
    "        # Get rid of words containing non alphabet letters\n",
    "        items = [word for word in items if word.isalpha()]\n",
    "        # Turn everything to lowercase\n",
    "        items = [word.lower() for word in items]\n",
    "        # remove accents\n",
    "#         items = [unidecode.unidecode(word) for word in items] #''.join((c for c in unicodedata.normalize('NFD', items) if unicodedata.category(c) != 'Mn'))\n",
    "        # Lemmatize words so we can compare words to measuring words\n",
    "        items = [lemmatizer.lemmatize(word) for word in items]\n",
    "        # Gets rid of measuring words/phrases, e.g. heaped teaspoon\n",
    "        items = [word for word in items if word not in measures]\n",
    "        # Get rid of common easy words\n",
    "        items = [word for word in items if word not in words_to_remove]\n",
    "        if items:\n",
    "            ingred_list.append(' '.join(items)) \n",
    "    ingred_list = \" \".join(ingred_list)\n",
    "    return ingred_list\n",
    "    "
   ]
  },
  {
   "cell_type": "code",
   "execution_count": 165,
   "id": "b7876a90",
   "metadata": {},
   "outputs": [],
   "source": [
    "df_recipes = pd.read_csv(\"df_parsed.csv\")\n",
    "df_recipes['ingredients_parsed'] = df_recipes.ingredients_parsed.values.astype('U')\n",
    "\n",
    "# TF-IDF feature extractor \n",
    "tfidf = TfidfVectorizer()\n",
    "tfidf.fit(df_recipes['ingredients_parsed'])\n",
    "tfidf_recipe = tfidf.transform(df_recipes['ingredients_parsed'])\n",
    "with open('important.pkl', 'wb') as file:\n",
    "    pickle.dump(tfidf, file)\n",
    "with open('important2.pkl', 'wb') as file:\n",
    "    pickle.dump(tfidf_recipe, file)\n",
    "# pickle.dump(tfidf_recipe)"
   ]
  },
  {
   "cell_type": "code",
   "execution_count": 173,
   "id": "12ba777b",
   "metadata": {},
   "outputs": [],
   "source": [
    "def print_recs(N,scores):\n",
    "\n",
    "    df_recipes=pd.read_csv(\"df_parsed.csv\")\n",
    "    top = sorted(range(len(scores)), key=lambda i: scores[i], reverse=True)[:N]\n",
    "#     print(top)\n",
    "    recommendation = pd.DataFrame(columns = ['recipe', 'ingredients', 'score', 'url'])\n",
    "    count=0\n",
    "    for i in top:\n",
    "            recommendation.at[count, 'recipe'] = df_recipes['recipe_name'][i]\n",
    "            recommendation.at[count, 'ingredients'] = ingredient_parser(df_recipes['ingredients'][i])\n",
    "            recommendation.at[count, 'url'] = df_recipes['recipe_urls'][i]\n",
    "            recommendation.at[count, 'score'] = \"{:.3f}\".format(float(scores[i]))\n",
    "            count += 1\n",
    "    return recommendation"
   ]
  },
  {
   "cell_type": "code",
   "execution_count": 174,
   "id": "3512e6a5",
   "metadata": {},
   "outputs": [],
   "source": [
    "# def title_parser(title):\n",
    "#     title = unidecode.unidecode(title)\n",
    "#     return title "
   ]
  },
  {
   "cell_type": "code",
   "execution_count": 175,
   "id": "a165d505",
   "metadata": {},
   "outputs": [],
   "source": [
    "def rec_sys(ingredients,N=5):\n",
    "    with open(\"important2.pkl\",'rb') as f:\n",
    "        tfidf_encodings = pickle.load(f)\n",
    "    with open(\"important.pkl\",'rb') as f:\n",
    "        tfidf = pickle.load(f)\n",
    "    try: \n",
    "        ingredients_parsed = ingredient_parser(ingredients)\n",
    "    except:\n",
    "        ingredients_parsed = ingredient_parser([ingredients])\n",
    "    \n",
    "    # use our pretrained tfidf model to encode our input ingredients\n",
    "    ingredients_tfidf = tfidf.transform([ingredients_parsed])\n",
    "\n",
    "    # calculate cosine similarity between actual recipe ingreds and test ingreds\n",
    "    cos_sim = map(lambda x: cosine_similarity(ingredients_tfidf, x), tfidf_encodings)\n",
    "    scores = list(cos_sim)\n",
    "#     print(scores)\n",
    "\n",
    "    # Filter top N recommendations \n",
    "    recommendations = print_recs(N, scores)\n",
    "    return recommendations\n",
    "    "
   ]
  },
  {
   "cell_type": "code",
   "execution_count": 176,
   "id": "59faa571",
   "metadata": {},
   "outputs": [
    {
     "name": "stdout",
     "output_type": "stream",
     "text": [
      "File is not empty\n"
     ]
    }
   ],
   "source": [
    "import os\n",
    "file_path = 'important2.pkl'\n",
    "# check if size of file is 0\n",
    "if os.stat(file_path).st_size == 0:\n",
    "    print('File is empty')\n",
    "else:\n",
    "    print('File is not empty')"
   ]
  },
  {
   "cell_type": "code",
   "execution_count": 177,
   "id": "53990aee",
   "metadata": {},
   "outputs": [
    {
     "name": "stdout",
     "output_type": "stream",
     "text": [
      "                         recipe  \\\n",
      "0     Basic Spicy Tomato Sauce    \n",
      "1            Mild Curry Omelet    \n",
      "2  Sher-a-Punjab Onion Chutney    \n",
      "3          Curried Hash Browns    \n",
      "4               Pizza Sauce II    \n",
      "\n",
      "                                         ingredients  score  \\\n",
      "0                               tomato onion chopped  0.669   \n",
      "1            sesame minced garlic minced onion onion  0.619   \n",
      "2                                 onion minced sugar  0.603   \n",
      "3  butter chopped onion curry potato chopped minc...  0.578   \n",
      "4      minced onion onion tomato tomato paste minced  0.575   \n",
      "\n",
      "                                                 url  \n",
      "0  https://www.allrecipes.com/recipe/158899/basic...  \n",
      "1  https://www.allrecipes.com/recipe/134590/mild-...  \n",
      "2  https://www.allrecipes.com/recipe/237761/sher-...  \n",
      "3  https://www.allrecipes.com/recipe/163927/curri...  \n",
      "4  https://www.allrecipes.com/recipe/25402/pizza-...  \n"
     ]
    }
   ],
   "source": [
    "if __name__ == \"__main__\":\n",
    "    # test ingredients\n",
    "    test_ingredients = \"pasta, tomato, onion\"\n",
    "    recs = rec_sys(test_ingredients,5)\n",
    "    print(recs)\n"
   ]
  },
  {
   "cell_type": "code",
   "execution_count": 3,
   "id": "76247c81",
   "metadata": {},
   "outputs": [
    {
     "ename": "SyntaxError",
     "evalue": "unexpected EOF while parsing (<ipython-input-3-5acefb21d8b4>, line 2)",
     "output_type": "error",
     "traceback": [
      "\u001b[1;36m  File \u001b[1;32m\"<ipython-input-3-5acefb21d8b4>\"\u001b[1;36m, line \u001b[1;32m2\u001b[0m\n\u001b[1;33m    pickle.dump(finalmodel, open('rr_model.pkl','wb')\u001b[0m\n\u001b[1;37m                                                     ^\u001b[0m\n\u001b[1;31mSyntaxError\u001b[0m\u001b[1;31m:\u001b[0m unexpected EOF while parsing\n"
     ]
    }
   ],
   "source": []
  },
  {
   "cell_type": "code",
   "execution_count": null,
   "id": "8b7477a1",
   "metadata": {},
   "outputs": [],
   "source": []
  }
 ],
 "metadata": {
  "kernelspec": {
   "display_name": "Python 3",
   "language": "python",
   "name": "python3"
  },
  "language_info": {
   "codemirror_mode": {
    "name": "ipython",
    "version": 3
   },
   "file_extension": ".py",
   "mimetype": "text/x-python",
   "name": "python",
   "nbconvert_exporter": "python",
   "pygments_lexer": "ipython3",
   "version": "3.8.8"
  }
 },
 "nbformat": 4,
 "nbformat_minor": 5
}
