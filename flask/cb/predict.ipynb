{
 "cells": [
  {
   "cell_type": "code",
   "execution_count": 1,
   "id": "98175f18",
   "metadata": {},
   "outputs": [],
   "source": [
    "import random\n",
    "import json\n",
    "import pickle \n",
    "from tensorflow.keras.models import load_model\n",
    "import nltk \n",
    "from nltk.stem import WordNetLemmatizer\n",
    "from nltk import word_tokenize\n",
    "import numpy as np"
   ]
  },
  {
   "cell_type": "code",
   "execution_count": 2,
   "id": "25566033",
   "metadata": {},
   "outputs": [],
   "source": [
    "from nltk.stem import WordNetLemmatizer\n"
   ]
  },
  {
   "cell_type": "code",
   "execution_count": 3,
   "id": "5fefccf5",
   "metadata": {},
   "outputs": [],
   "source": [
    "lemmatizer=WordNetLemmatizer()\n",
    "\n",
    "intents= json.loads(open('intents.json').read())"
   ]
  },
  {
   "cell_type": "code",
   "execution_count": 4,
   "id": "2d6e14b6",
   "metadata": {},
   "outputs": [],
   "source": [
    "words=pickle.load(open('words.pkl','rb'))\n",
    "classes=pickle.load(open('classes.pkl','rb'))\n",
    "model=load_model('cb.h5')"
   ]
  },
  {
   "cell_type": "code",
   "execution_count": 5,
   "id": "500c036d",
   "metadata": {},
   "outputs": [
    {
     "data": {
      "text/plain": [
       "['how', 'are', 'you']"
      ]
     },
     "execution_count": 5,
     "metadata": {},
     "output_type": "execute_result"
    }
   ],
   "source": [
    "def tidy(sentence):\n",
    "    word_st=nltk.word_tokenize(sentence)\n",
    "    word_st=[lemmatizer.lemmatize(word) for word in word_st]\n",
    "    return word_st\n",
    "tidy(\"how are you\")\n",
    "    "
   ]
  },
  {
   "cell_type": "code",
   "execution_count": 7,
   "id": "83c6819c",
   "metadata": {},
   "outputs": [
    {
     "data": {
      "text/plain": [
       "array([0, 0, 0, 1, 0, 0, 0, 0, 0, 0, 0, 0, 0, 0, 0, 0, 0, 0, 1, 0, 0, 0,\n",
       "       0, 0, 0, 0, 0, 0, 0, 0, 0, 0, 0, 0, 0, 0, 0, 1])"
      ]
     },
     "execution_count": 7,
     "metadata": {},
     "output_type": "execute_result"
    }
   ],
   "source": [
    "def boww(sentence):\n",
    "    word_st=tidy(sentence)\n",
    "    bag=[0]*(len(words))\n",
    "#     print(len(bag))cl\n",
    "    for w in word_st:\n",
    "        for i,word in enumerate(words):\n",
    "#             print(i)\n",
    "            if word==w:\n",
    "                bag[i] = 1\n",
    "                \n",
    "\n",
    "    return np.array(bag)\n",
    "boww(\"how are you\")\n",
    "\n"
   ]
  },
  {
   "cell_type": "code",
   "execution_count": 8,
   "id": "b6fc62d5",
   "metadata": {},
   "outputs": [],
   "source": [
    "def predict(sentence):\n",
    "    bowi=boww(sentence)\n",
    "    print(bowi)\n",
    "    \n",
    "    yay=model.predict(np.array([bowi]))[0]\n",
    "    \n",
    "    ERROR_THRESHOLD = 0.25\n",
    "    results = [[i, r] for i, r in enumerate(yay) if r > ERROR_THRESHOLD]\n",
    "    results.sort(key=lambda x: x[1], reverse=True)\n",
    "    return_list = []\n",
    "    for r in results:\n",
    "        return_list.append({'intent': classes[r[0]], 'probability': str(r[1])})\n",
    "    return return_list\n",
    "    "
   ]
  },
  {
   "cell_type": "code",
   "execution_count": 9,
   "id": "c9b2ab3b",
   "metadata": {},
   "outputs": [],
   "source": [
    "def get_response(ints, intents_json):\n",
    "            tag = ints[0]['intent']\n",
    "            list_of_intents = intents_json['intents']\n",
    "            for i in list_of_intents:\n",
    "                if i['tag']  == tag:\n",
    "                    result = random.choice(i['responses'])\n",
    "                    break\n",
    "            return result"
   ]
  },
  {
   "cell_type": "code",
   "execution_count": null,
   "id": "16909768",
   "metadata": {
    "scrolled": false
   },
   "outputs": [
    {
     "name": "stdout",
     "output_type": "stream",
     "text": [
      "go\n",
      "hi\n",
      "[0 0 0 0 0 0 0 0 0 0 0 0 0 0 0 0 0 1 0 0 0 0 0 0 0 0 0 0 0 0 0 0 0 0 0 0 0\n",
      " 0]\n",
      "Hello!\n",
      "what are you doing\n",
      "[0 0 0 1 0 0 0 0 0 0 1 0 0 0 0 0 0 0 0 0 0 0 0 0 0 0 0 0 0 0 0 0 0 0 1 0 0\n",
      " 1]\n",
      "Good to see you again!\n",
      "how is life\n",
      "[0 0 0 0 0 0 0 0 0 0 0 0 0 0 0 0 0 0 1 0 0 0 1 0 0 0 0 0 0 0 0 0 0 0 0 0 0\n",
      " 0]\n",
      "Hello!\n",
      "who are you\n",
      "[0 0 0 1 0 0 0 0 0 0 0 0 0 0 0 0 0 0 0 0 0 0 0 0 0 0 0 0 0 0 0 0 0 0 0 0 0\n",
      " 1]\n",
      "Hi there, how can I help?\n",
      "stocks\n",
      "[0 0 0 0 0 0 0 0 0 0 0 0 0 0 0 0 0 0 0 0 0 0 0 0 0 0 0 0 0 0 1 0 0 0 0 0 0\n",
      " 0]\n",
      "Talk to you later\n",
      "bye\n",
      "[0 0 0 0 1 0 0 0 0 0 0 0 0 0 0 0 0 0 0 0 0 0 0 0 0 0 0 0 0 0 0 0 0 0 0 0 0\n",
      " 0]\n",
      "Talk to you later\n",
      "goodbye\n",
      "[0 0 0 0 0 0 0 0 0 0 0 0 1 0 0 0 0 0 0 0 0 0 0 0 0 0 0 0 0 0 0 0 0 0 0 0 0\n",
      " 0]\n",
      "Goodbye!\n",
      "hi\n",
      "[0 0 0 0 0 0 0 0 0 0 0 0 0 0 0 0 0 1 0 0 0 0 0 0 0 0 0 0 0 0 0 0 0 0 0 0 0\n",
      " 0]\n",
      "Good to see you again!\n",
      "how many stocks do i have\n",
      "[0 0 0 0 0 0 0 0 0 1 0 0 0 0 1 0 0 0 1 1 0 0 0 0 0 0 0 0 0 0 1 0 0 0 0 0 0\n",
      " 0]\n",
      "You own the following shares: ABBV, AAPL, FB, NVDA and an ETF of the S&P 500 Index!\n",
      "what is your name\n",
      "[0 0 0 0 0 0 0 0 0 0 0 0 0 0 0 0 0 0 0 0 0 0 1 0 0 0 0 0 0 0 0 0 0 0 1 0 0\n",
      " 0]\n",
      "Hi there, how can I help?\n"
     ]
    }
   ],
   "source": [
    "print(\"go\")\n",
    "while True:\n",
    "    message=input(\"\")\n",
    "    ints=predict(message)\n",
    "    res=get_response(ints, intents)\n",
    "    print(res)"
   ]
  },
  {
   "cell_type": "code",
   "execution_count": null,
   "id": "770bc9d7",
   "metadata": {},
   "outputs": [],
   "source": []
  }
 ],
 "metadata": {
  "kernelspec": {
   "display_name": "Python 3",
   "language": "python",
   "name": "python3"
  },
  "language_info": {
   "codemirror_mode": {
    "name": "ipython",
    "version": 3
   },
   "file_extension": ".py",
   "mimetype": "text/x-python",
   "name": "python",
   "nbconvert_exporter": "python",
   "pygments_lexer": "ipython3",
   "version": "3.8.8"
  }
 },
 "nbformat": 4,
 "nbformat_minor": 5
}
